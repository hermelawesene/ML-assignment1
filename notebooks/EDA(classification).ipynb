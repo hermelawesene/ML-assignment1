{
 "cells": [
  {
   "cell_type": "markdown",
   "metadata": {},
   "source": [
    "## Star Classification Dataset on Kaggle\n",
    "\n",
    "**Source:** Kaggle.com\n",
    "\n",
    "This dataset focuses on predicting the type of star based on its properties. The target variable is **Star Type**, which classifies stars into six categories (0: Brown Dwarf, 1: Red Dwarf, 2: White Dwarf, 3: Main Sequence, 4: Supergiants, 5: Hypergiants) based on their temperature, size, and luminosity.\n",
    "\n",
    "**Features:**\n",
    "\n",
    "* **Temperature (K):** The star's temperature in Kelvin, influencing its color and energy output.\n",
    "* **Luminosity (L/Lo):** The star's brightness compared to the Sun, indicating its energy production.\n",
    "* **Radius (R/Ro):** The star's size relative to the Sun, providing insight into its physical structure.\n",
    "* **Absolute Magnitude (Mv):** A standardized measure of the star's intrinsic brightness for comparison across vast distances.\n",
    "* **Star Color:** An indicator of the star's temperature and composition.\n",
    "* **Spectral Class:** Classification based on spectral lines, revealing the star's chemical makeup and evolutionary stage."
   ]
  },
  {
   "cell_type": "markdown",
   "metadata": {},
   "source": [
    "## Objective of this Exploratory Data Analysis (EDA) for Stellar Dataset\n",
    "\n",
    "The primary objective of this EDA is to delve into the dataset, uncovering relationships between the features and the target variable, **Star Type**. This analysis will facilitate a deeper understanding of the data, identify patterns, trends, and anomalies, and ultimately guide the development of effective predictive models.\n",
    "\n",
    "**Specific Goals of the EDA:**\n",
    "\n",
    "* **Examine Feature Distributions:** Investigate the statistical distributions of key features like Temperature, Luminosity, Radius, and Absolute Magnitude to understand their range, central tendency, and variance.\n",
    "* **Analyze Correlations:** Assess the correlations between numerical features (e.g., Temperature vs. Luminosity, Radius vs. Absolute Magnitude) to identify potential relationships that can influence the Star Type.\n",
    "* **Explore Target Variable Distribution:** Understand the distribution of the Star Type categories within the dataset, analyzing how different star types are represented in terms of their feature values.\n",
    "* **Identify Data Quality Issues:** Detect and address any outliers or missing values that may impact the analysis and modeling process.\n",
    "* **Visualize Relationships:** Utilize various plots (scatter plots, histograms, pair plots, heatmaps) to visualize relationships between features and their impact on Star Type predictions.\n",
    "* **Feature Engineering:** Consider creating new features (e.g., temperature ranges, luminosity bins) that might enhance predictive performance in subsequent modeling stages."
   ]
  },
  {
   "cell_type": "code",
   "execution_count": 1,
   "metadata": {},
   "outputs": [],
   "source": [
    "# Importing the nessesary libraries\n",
    "import pandas as pd\n",
    "import seaborn as sns\n",
    "import matplotlib.pyplot as plt\n",
    "import numpy as np\n",
    "from sklearn.model_selection import train_test_split\n",
    "from sklearn.preprocessing import StandardScaler, LabelEncoder\n",
    "from sklearn.ensemble import RandomForestClassifier\n",
    "from sklearn.metrics import classification_report, accuracy_score, confusion_matrix\n",
    "from sklearn.model_selection import cross_val_score"
   ]
  },
  {
   "cell_type": "code",
   "execution_count": 2,
   "metadata": {},
   "outputs": [],
   "source": [
    "# Load the dataset\n",
    "df = pd.read_csv('../data/star_data.csv')"
   ]
  },
  {
   "cell_type": "code",
   "execution_count": 3,
   "metadata": {},
   "outputs": [
    {
     "name": "stdout",
     "output_type": "stream",
     "text": [
      "  Temperature (K) Luminosity(L/Lo) Radius(R/Ro) Absolute magnitude(Mv)  \\\n",
      "0             NaN              NaN          NaN                    NaN   \n",
      "1            3042           0.0005       0.1542                   16.6   \n",
      "2            2600           0.0003        0.102                   18.7   \n",
      "3            2800           0.0002                               16.65   \n",
      "4            1939         0.000138        0.103                  20.06   \n",
      "5            2840                          0.11                  16.98   \n",
      "6            2637          0.00073        0.127                  17.22   \n",
      "7            2600           0.0004        0.096                   17.4   \n",
      "8            2650          0.00069         0.11                  17.45   \n",
      "9            2700          0.00018         0.13                  16.05   \n",
      "\n",
      "   Star type Star color Spectral Class  \n",
      "0        NaN        NaN            NaN  \n",
      "1        0.0        Red              M  \n",
      "2        0.0        Red              M  \n",
      "3        0.0        Red              M  \n",
      "4        0.0        Red              M  \n",
      "5        0.0        Red              M  \n",
      "6        0.0        Red              M  \n",
      "7        0.0        Red              M  \n",
      "8        0.0        Red              M  \n",
      "9        0.0        Red              M  \n"
     ]
    }
   ],
   "source": [
    "# Understanding the dataset\n",
    "print(df.head(10))"
   ]
  },
  {
   "cell_type": "code",
   "execution_count": 4,
   "metadata": {},
   "outputs": [
    {
     "name": "stdout",
     "output_type": "stream",
     "text": [
      "<class 'pandas.core.frame.DataFrame'>\n",
      "RangeIndex: 240 entries, 0 to 239\n",
      "Data columns (total 7 columns):\n",
      " #   Column                  Non-Null Count  Dtype  \n",
      "---  ------                  --------------  -----  \n",
      " 0   Temperature (K)         239 non-null    object \n",
      " 1   Luminosity(L/Lo)        239 non-null    object \n",
      " 2   Radius(R/Ro)            239 non-null    object \n",
      " 3   Absolute magnitude(Mv)  239 non-null    object \n",
      " 4   Star type               239 non-null    float64\n",
      " 5   Star color              239 non-null    object \n",
      " 6   Spectral Class          239 non-null    object \n",
      "dtypes: float64(1), object(6)\n",
      "memory usage: 13.3+ KB\n",
      "None\n"
     ]
    }
   ],
   "source": [
    "print(df.info())"
   ]
  },
  {
   "cell_type": "markdown",
   "metadata": {},
   "source": [
    "The dataset contains 240 entries and 7 columns, with most features being categorical (object type), except for \"Star type\" which is a numerical variable, and all columns have no missing values."
   ]
  },
  {
   "cell_type": "code",
   "execution_count": 5,
   "metadata": {},
   "outputs": [
    {
     "name": "stdout",
     "output_type": "stream",
     "text": [
      "<bound method NDFrame.describe of     Temperature (K) Luminosity(L/Lo) Radius(R/Ro) Absolute magnitude(Mv)  \\\n",
      "0               NaN              NaN          NaN                    NaN   \n",
      "1              3042           0.0005       0.1542                   16.6   \n",
      "2              2600           0.0003        0.102                   18.7   \n",
      "3              2800           0.0002                               16.65   \n",
      "4              1939         0.000138        0.103                  20.06   \n",
      "..              ...              ...          ...                    ...   \n",
      "235           38940           374830         1356                  -9.93   \n",
      "236           30839           834042         1194                 -10.63   \n",
      "237            8829           537493         1423                 -10.73   \n",
      "238            9235           404940         1112                 -11.23   \n",
      "239           37882           294903         1783                   -7.8   \n",
      "\n",
      "     Star type Star color Spectral Class  \n",
      "0          NaN        NaN            NaN  \n",
      "1          0.0        Red              M  \n",
      "2          0.0        Red              M  \n",
      "3          0.0        Red              M  \n",
      "4          0.0        Red              M  \n",
      "..         ...        ...            ...  \n",
      "235        5.0       Blue              O  \n",
      "236        5.0       Blue              O  \n",
      "237        5.0      White              A  \n",
      "238        5.0      White              A  \n",
      "239        5.0       Blue              O  \n",
      "\n",
      "[240 rows x 7 columns]>\n"
     ]
    }
   ],
   "source": [
    "print(df.describe)"
   ]
  },
  {
   "cell_type": "markdown",
   "metadata": {},
   "source": [
    "\n",
    "The dataset contains 240 rows and 7 columns, with both numerical and categorical data representing star properties, though some entries contain missing or improperly formatted values."
   ]
  },
  {
   "cell_type": "code",
   "execution_count": 6,
   "metadata": {},
   "outputs": [
    {
     "name": "stdout",
     "output_type": "stream",
     "text": [
      "Temperature (K)           1\n",
      "Luminosity(L/Lo)          1\n",
      "Radius(R/Ro)              1\n",
      "Absolute magnitude(Mv)    1\n",
      "Star type                 1\n",
      "Star color                1\n",
      "Spectral Class            1\n",
      "dtype: int64\n"
     ]
    }
   ],
   "source": [
    "print(df.isnull().sum())"
   ]
  },
  {
   "cell_type": "code",
   "execution_count": 7,
   "metadata": {},
   "outputs": [
    {
     "data": {
      "text/html": [
       "<div>\n",
       "<style scoped>\n",
       "    .dataframe tbody tr th:only-of-type {\n",
       "        vertical-align: middle;\n",
       "    }\n",
       "\n",
       "    .dataframe tbody tr th {\n",
       "        vertical-align: top;\n",
       "    }\n",
       "\n",
       "    .dataframe thead th {\n",
       "        text-align: right;\n",
       "    }\n",
       "</style>\n",
       "<table border=\"1\" class=\"dataframe\">\n",
       "  <thead>\n",
       "    <tr style=\"text-align: right;\">\n",
       "      <th></th>\n",
       "      <th>Temperature (K)</th>\n",
       "      <th>Luminosity(L/Lo)</th>\n",
       "      <th>Radius(R/Ro)</th>\n",
       "      <th>Absolute magnitude(Mv)</th>\n",
       "      <th>Star type</th>\n",
       "      <th>Star color</th>\n",
       "      <th>Spectral Class</th>\n",
       "    </tr>\n",
       "  </thead>\n",
       "  <tbody>\n",
       "    <tr>\n",
       "      <th>0</th>\n",
       "      <td>NaN</td>\n",
       "      <td>NaN</td>\n",
       "      <td>NaN</td>\n",
       "      <td>NaN</td>\n",
       "      <td>NaN</td>\n",
       "      <td>NaN</td>\n",
       "      <td>NaN</td>\n",
       "    </tr>\n",
       "    <tr>\n",
       "      <th>1</th>\n",
       "      <td>3042</td>\n",
       "      <td>0.0005</td>\n",
       "      <td>0.1542</td>\n",
       "      <td>16.6</td>\n",
       "      <td>0.0</td>\n",
       "      <td>Red</td>\n",
       "      <td>M</td>\n",
       "    </tr>\n",
       "    <tr>\n",
       "      <th>2</th>\n",
       "      <td>2600</td>\n",
       "      <td>0.0003</td>\n",
       "      <td>0.102</td>\n",
       "      <td>18.7</td>\n",
       "      <td>0.0</td>\n",
       "      <td>Red</td>\n",
       "      <td>M</td>\n",
       "    </tr>\n",
       "    <tr>\n",
       "      <th>3</th>\n",
       "      <td>2800</td>\n",
       "      <td>0.0002</td>\n",
       "      <td></td>\n",
       "      <td>16.65</td>\n",
       "      <td>0.0</td>\n",
       "      <td>Red</td>\n",
       "      <td>M</td>\n",
       "    </tr>\n",
       "    <tr>\n",
       "      <th>4</th>\n",
       "      <td>1939</td>\n",
       "      <td>0.000138</td>\n",
       "      <td>0.103</td>\n",
       "      <td>20.06</td>\n",
       "      <td>0.0</td>\n",
       "      <td>Red</td>\n",
       "      <td>M</td>\n",
       "    </tr>\n",
       "    <tr>\n",
       "      <th>...</th>\n",
       "      <td>...</td>\n",
       "      <td>...</td>\n",
       "      <td>...</td>\n",
       "      <td>...</td>\n",
       "      <td>...</td>\n",
       "      <td>...</td>\n",
       "      <td>...</td>\n",
       "    </tr>\n",
       "    <tr>\n",
       "      <th>235</th>\n",
       "      <td>38940</td>\n",
       "      <td>374830</td>\n",
       "      <td>1356</td>\n",
       "      <td>-9.93</td>\n",
       "      <td>5.0</td>\n",
       "      <td>Blue</td>\n",
       "      <td>O</td>\n",
       "    </tr>\n",
       "    <tr>\n",
       "      <th>236</th>\n",
       "      <td>30839</td>\n",
       "      <td>834042</td>\n",
       "      <td>1194</td>\n",
       "      <td>-10.63</td>\n",
       "      <td>5.0</td>\n",
       "      <td>Blue</td>\n",
       "      <td>O</td>\n",
       "    </tr>\n",
       "    <tr>\n",
       "      <th>237</th>\n",
       "      <td>8829</td>\n",
       "      <td>537493</td>\n",
       "      <td>1423</td>\n",
       "      <td>-10.73</td>\n",
       "      <td>5.0</td>\n",
       "      <td>White</td>\n",
       "      <td>A</td>\n",
       "    </tr>\n",
       "    <tr>\n",
       "      <th>238</th>\n",
       "      <td>9235</td>\n",
       "      <td>404940</td>\n",
       "      <td>1112</td>\n",
       "      <td>-11.23</td>\n",
       "      <td>5.0</td>\n",
       "      <td>White</td>\n",
       "      <td>A</td>\n",
       "    </tr>\n",
       "    <tr>\n",
       "      <th>239</th>\n",
       "      <td>37882</td>\n",
       "      <td>294903</td>\n",
       "      <td>1783</td>\n",
       "      <td>-7.8</td>\n",
       "      <td>5.0</td>\n",
       "      <td>Blue</td>\n",
       "      <td>O</td>\n",
       "    </tr>\n",
       "  </tbody>\n",
       "</table>\n",
       "<p>240 rows × 7 columns</p>\n",
       "</div>"
      ],
      "text/plain": [
       "    Temperature (K) Luminosity(L/Lo) Radius(R/Ro) Absolute magnitude(Mv)  \\\n",
       "0               NaN              NaN          NaN                    NaN   \n",
       "1              3042           0.0005       0.1542                   16.6   \n",
       "2              2600           0.0003        0.102                   18.7   \n",
       "3              2800           0.0002                               16.65   \n",
       "4              1939         0.000138        0.103                  20.06   \n",
       "..              ...              ...          ...                    ...   \n",
       "235           38940           374830         1356                  -9.93   \n",
       "236           30839           834042         1194                 -10.63   \n",
       "237            8829           537493         1423                 -10.73   \n",
       "238            9235           404940         1112                 -11.23   \n",
       "239           37882           294903         1783                   -7.8   \n",
       "\n",
       "     Star type Star color Spectral Class  \n",
       "0          NaN        NaN            NaN  \n",
       "1          0.0        Red              M  \n",
       "2          0.0        Red              M  \n",
       "3          0.0        Red              M  \n",
       "4          0.0        Red              M  \n",
       "..         ...        ...            ...  \n",
       "235        5.0       Blue              O  \n",
       "236        5.0       Blue              O  \n",
       "237        5.0      White              A  \n",
       "238        5.0      White              A  \n",
       "239        5.0       Blue              O  \n",
       "\n",
       "[240 rows x 7 columns]"
      ]
     },
     "execution_count": 7,
     "metadata": {},
     "output_type": "execute_result"
    }
   ],
   "source": [
    "df"
   ]
  },
  {
   "cell_type": "code",
   "execution_count": null,
   "metadata": {},
   "outputs": [],
   "source": []
  }
 ],
 "metadata": {
  "kernelspec": {
   "display_name": ".venv",
   "language": "python",
   "name": "python3"
  },
  "language_info": {
   "codemirror_mode": {
    "name": "ipython",
    "version": 3
   },
   "file_extension": ".py",
   "mimetype": "text/x-python",
   "name": "python",
   "nbconvert_exporter": "python",
   "pygments_lexer": "ipython3",
   "version": "3.11.7"
  }
 },
 "nbformat": 4,
 "nbformat_minor": 2
}

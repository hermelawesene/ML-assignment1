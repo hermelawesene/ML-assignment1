{
 "cells": [
  {
   "cell_type": "code",
   "execution_count": 307,
   "metadata": {},
   "outputs": [],
   "source": [
    "import numpy as np\n",
    "import pandas as pd \n",
    "import matplotlib.pyplot as plt\n",
    "import seaborn as sns\n",
    "import warnings\n",
    "\n",
    "# Suppress warnings\n",
    "warnings.filterwarnings('ignore')"
   ]
  },
  {
   "cell_type": "code",
   "execution_count": 308,
   "metadata": {},
   "outputs": [
    {
     "data": {
      "text/html": [
       "<div>\n",
       "<style scoped>\n",
       "    .dataframe tbody tr th:only-of-type {\n",
       "        vertical-align: middle;\n",
       "    }\n",
       "\n",
       "    .dataframe tbody tr th {\n",
       "        vertical-align: top;\n",
       "    }\n",
       "\n",
       "    .dataframe thead th {\n",
       "        text-align: right;\n",
       "    }\n",
       "</style>\n",
       "<table border=\"1\" class=\"dataframe\">\n",
       "  <thead>\n",
       "    <tr style=\"text-align: right;\">\n",
       "      <th></th>\n",
       "      <th>ID</th>\n",
       "      <th>Price</th>\n",
       "      <th>Levy</th>\n",
       "      <th>Manufacturer</th>\n",
       "      <th>Model</th>\n",
       "      <th>Prod. year</th>\n",
       "      <th>Category</th>\n",
       "      <th>Leather interior</th>\n",
       "      <th>Fuel type</th>\n",
       "      <th>Engine volume</th>\n",
       "      <th>Mileage</th>\n",
       "      <th>Cylinders</th>\n",
       "      <th>Gear box type</th>\n",
       "      <th>Drive wheels</th>\n",
       "      <th>Doors</th>\n",
       "      <th>Wheel</th>\n",
       "      <th>Color</th>\n",
       "      <th>Airbags</th>\n",
       "    </tr>\n",
       "  </thead>\n",
       "  <tbody>\n",
       "    <tr>\n",
       "      <th>0</th>\n",
       "      <td>45654403</td>\n",
       "      <td>13328</td>\n",
       "      <td>1399</td>\n",
       "      <td>LEXUS</td>\n",
       "      <td>RX 450</td>\n",
       "      <td>2010</td>\n",
       "      <td>Jeep</td>\n",
       "      <td>Yes</td>\n",
       "      <td>Hybrid</td>\n",
       "      <td>3.5</td>\n",
       "      <td>186005 km</td>\n",
       "      <td>6.0</td>\n",
       "      <td>Automatic</td>\n",
       "      <td>4x4</td>\n",
       "      <td>04-May</td>\n",
       "      <td>Left wheel</td>\n",
       "      <td>Silver</td>\n",
       "      <td>12</td>\n",
       "    </tr>\n",
       "    <tr>\n",
       "      <th>1</th>\n",
       "      <td>44731507</td>\n",
       "      <td>16621</td>\n",
       "      <td>1018</td>\n",
       "      <td>CHEVROLET</td>\n",
       "      <td>Equinox</td>\n",
       "      <td>2011</td>\n",
       "      <td>Jeep</td>\n",
       "      <td>No</td>\n",
       "      <td>Petrol</td>\n",
       "      <td>3</td>\n",
       "      <td>192000 km</td>\n",
       "      <td>6.0</td>\n",
       "      <td>Tiptronic</td>\n",
       "      <td>4x4</td>\n",
       "      <td>04-May</td>\n",
       "      <td>Left wheel</td>\n",
       "      <td>Black</td>\n",
       "      <td>8</td>\n",
       "    </tr>\n",
       "    <tr>\n",
       "      <th>2</th>\n",
       "      <td>45774419</td>\n",
       "      <td>8467</td>\n",
       "      <td>-</td>\n",
       "      <td>HONDA</td>\n",
       "      <td>FIT</td>\n",
       "      <td>2006</td>\n",
       "      <td>Hatchback</td>\n",
       "      <td>No</td>\n",
       "      <td>Petrol</td>\n",
       "      <td>1.3</td>\n",
       "      <td>200000 km</td>\n",
       "      <td>4.0</td>\n",
       "      <td>Variator</td>\n",
       "      <td>Front</td>\n",
       "      <td>04-May</td>\n",
       "      <td>Right-hand drive</td>\n",
       "      <td>Black</td>\n",
       "      <td>2</td>\n",
       "    </tr>\n",
       "    <tr>\n",
       "      <th>3</th>\n",
       "      <td>45769185</td>\n",
       "      <td>3607</td>\n",
       "      <td>862</td>\n",
       "      <td>FORD</td>\n",
       "      <td>Escape</td>\n",
       "      <td>2011</td>\n",
       "      <td>Jeep</td>\n",
       "      <td>Yes</td>\n",
       "      <td>Hybrid</td>\n",
       "      <td>2.5</td>\n",
       "      <td>168966 km</td>\n",
       "      <td>4.0</td>\n",
       "      <td>Automatic</td>\n",
       "      <td>4x4</td>\n",
       "      <td>04-May</td>\n",
       "      <td>Left wheel</td>\n",
       "      <td>White</td>\n",
       "      <td>0</td>\n",
       "    </tr>\n",
       "    <tr>\n",
       "      <th>4</th>\n",
       "      <td>45809263</td>\n",
       "      <td>11726</td>\n",
       "      <td>446</td>\n",
       "      <td>HONDA</td>\n",
       "      <td>FIT</td>\n",
       "      <td>2014</td>\n",
       "      <td>Hatchback</td>\n",
       "      <td>Yes</td>\n",
       "      <td>Petrol</td>\n",
       "      <td>1.3</td>\n",
       "      <td>91901 km</td>\n",
       "      <td>4.0</td>\n",
       "      <td>Automatic</td>\n",
       "      <td>Front</td>\n",
       "      <td>04-May</td>\n",
       "      <td>Left wheel</td>\n",
       "      <td>Silver</td>\n",
       "      <td>4</td>\n",
       "    </tr>\n",
       "    <tr>\n",
       "      <th>5</th>\n",
       "      <td>45802912</td>\n",
       "      <td>39493</td>\n",
       "      <td>891</td>\n",
       "      <td>HYUNDAI</td>\n",
       "      <td>Santa FE</td>\n",
       "      <td>2016</td>\n",
       "      <td>Jeep</td>\n",
       "      <td>Yes</td>\n",
       "      <td>Diesel</td>\n",
       "      <td>2</td>\n",
       "      <td>160931 km</td>\n",
       "      <td>4.0</td>\n",
       "      <td>Automatic</td>\n",
       "      <td>Front</td>\n",
       "      <td>04-May</td>\n",
       "      <td>Left wheel</td>\n",
       "      <td>White</td>\n",
       "      <td>4</td>\n",
       "    </tr>\n",
       "    <tr>\n",
       "      <th>6</th>\n",
       "      <td>45656768</td>\n",
       "      <td>1803</td>\n",
       "      <td>761</td>\n",
       "      <td>TOYOTA</td>\n",
       "      <td>Prius</td>\n",
       "      <td>2010</td>\n",
       "      <td>Hatchback</td>\n",
       "      <td>Yes</td>\n",
       "      <td>Hybrid</td>\n",
       "      <td>1.8</td>\n",
       "      <td>258909 km</td>\n",
       "      <td>4.0</td>\n",
       "      <td>Automatic</td>\n",
       "      <td>Front</td>\n",
       "      <td>04-May</td>\n",
       "      <td>Left wheel</td>\n",
       "      <td>White</td>\n",
       "      <td>12</td>\n",
       "    </tr>\n",
       "    <tr>\n",
       "      <th>7</th>\n",
       "      <td>45816158</td>\n",
       "      <td>549</td>\n",
       "      <td>751</td>\n",
       "      <td>HYUNDAI</td>\n",
       "      <td>Sonata</td>\n",
       "      <td>2013</td>\n",
       "      <td>Sedan</td>\n",
       "      <td>Yes</td>\n",
       "      <td>Petrol</td>\n",
       "      <td>2.4</td>\n",
       "      <td>216118 km</td>\n",
       "      <td>4.0</td>\n",
       "      <td>Automatic</td>\n",
       "      <td>Front</td>\n",
       "      <td>04-May</td>\n",
       "      <td>Left wheel</td>\n",
       "      <td>Grey</td>\n",
       "      <td>12</td>\n",
       "    </tr>\n",
       "    <tr>\n",
       "      <th>8</th>\n",
       "      <td>45641395</td>\n",
       "      <td>1098</td>\n",
       "      <td>394</td>\n",
       "      <td>TOYOTA</td>\n",
       "      <td>Camry</td>\n",
       "      <td>2014</td>\n",
       "      <td>Sedan</td>\n",
       "      <td>Yes</td>\n",
       "      <td>Hybrid</td>\n",
       "      <td>2.5</td>\n",
       "      <td>398069 km</td>\n",
       "      <td>4.0</td>\n",
       "      <td>Automatic</td>\n",
       "      <td>Front</td>\n",
       "      <td>04-May</td>\n",
       "      <td>Left wheel</td>\n",
       "      <td>Black</td>\n",
       "      <td>12</td>\n",
       "    </tr>\n",
       "    <tr>\n",
       "      <th>9</th>\n",
       "      <td>45756839</td>\n",
       "      <td>26657</td>\n",
       "      <td>-</td>\n",
       "      <td>LEXUS</td>\n",
       "      <td>RX 350</td>\n",
       "      <td>2007</td>\n",
       "      <td>Jeep</td>\n",
       "      <td>Yes</td>\n",
       "      <td>Petrol</td>\n",
       "      <td>3.5</td>\n",
       "      <td>128500 km</td>\n",
       "      <td>6.0</td>\n",
       "      <td>Automatic</td>\n",
       "      <td>4x4</td>\n",
       "      <td>04-May</td>\n",
       "      <td>Left wheel</td>\n",
       "      <td>Silver</td>\n",
       "      <td>12</td>\n",
       "    </tr>\n",
       "  </tbody>\n",
       "</table>\n",
       "</div>"
      ],
      "text/plain": [
       "         ID  Price  Levy Manufacturer     Model  Prod. year   Category  \\\n",
       "0  45654403  13328  1399        LEXUS    RX 450        2010       Jeep   \n",
       "1  44731507  16621  1018    CHEVROLET   Equinox        2011       Jeep   \n",
       "2  45774419   8467     -        HONDA       FIT        2006  Hatchback   \n",
       "3  45769185   3607   862         FORD    Escape        2011       Jeep   \n",
       "4  45809263  11726   446        HONDA       FIT        2014  Hatchback   \n",
       "5  45802912  39493   891      HYUNDAI  Santa FE        2016       Jeep   \n",
       "6  45656768   1803   761       TOYOTA     Prius        2010  Hatchback   \n",
       "7  45816158    549   751      HYUNDAI    Sonata        2013      Sedan   \n",
       "8  45641395   1098   394       TOYOTA     Camry        2014      Sedan   \n",
       "9  45756839  26657     -        LEXUS    RX 350        2007       Jeep   \n",
       "\n",
       "  Leather interior Fuel type Engine volume    Mileage  Cylinders  \\\n",
       "0              Yes    Hybrid           3.5  186005 km        6.0   \n",
       "1               No    Petrol             3  192000 km        6.0   \n",
       "2               No    Petrol           1.3  200000 km        4.0   \n",
       "3              Yes    Hybrid           2.5  168966 km        4.0   \n",
       "4              Yes    Petrol           1.3   91901 km        4.0   \n",
       "5              Yes    Diesel             2  160931 km        4.0   \n",
       "6              Yes    Hybrid           1.8  258909 km        4.0   \n",
       "7              Yes    Petrol           2.4  216118 km        4.0   \n",
       "8              Yes    Hybrid           2.5  398069 km        4.0   \n",
       "9              Yes    Petrol           3.5  128500 km        6.0   \n",
       "\n",
       "  Gear box type Drive wheels   Doors             Wheel   Color  Airbags  \n",
       "0     Automatic          4x4  04-May        Left wheel  Silver       12  \n",
       "1     Tiptronic          4x4  04-May        Left wheel   Black        8  \n",
       "2      Variator        Front  04-May  Right-hand drive   Black        2  \n",
       "3     Automatic          4x4  04-May        Left wheel   White        0  \n",
       "4     Automatic        Front  04-May        Left wheel  Silver        4  \n",
       "5     Automatic        Front  04-May        Left wheel   White        4  \n",
       "6     Automatic        Front  04-May        Left wheel   White       12  \n",
       "7     Automatic        Front  04-May        Left wheel    Grey       12  \n",
       "8     Automatic        Front  04-May        Left wheel   Black       12  \n",
       "9     Automatic          4x4  04-May        Left wheel  Silver       12  "
      ]
     },
     "execution_count": 308,
     "metadata": {},
     "output_type": "execute_result"
    }
   ],
   "source": [
    "# Reading the file and printing the first 5\n",
    "df = pd.read_csv(\"../data/car_price_prediction.csv\")\n",
    "df.head(10)"
   ]
  },
  {
   "cell_type": "markdown",
   "metadata": {},
   "source": [
    "Data Cleaning and Exploratory"
   ]
  },
  {
   "cell_type": "code",
   "execution_count": 309,
   "metadata": {},
   "outputs": [
    {
     "name": "stdout",
     "output_type": "stream",
     "text": [
      "Data has 19237 rows , 18 columns.\n"
     ]
    }
   ],
   "source": [
    "print(f'Data has {df.shape[0]} rows , {df.shape[1]} columns.')"
   ]
  },
  {
   "cell_type": "code",
   "execution_count": 310,
   "metadata": {},
   "outputs": [
    {
     "name": "stdout",
     "output_type": "stream",
     "text": [
      "Data after dropping col \"ID\" has  17 columns.\n"
     ]
    }
   ],
   "source": [
    "# since the id column is not useful we can drop it \n",
    "df.drop(['ID'], axis=1,inplace=True)\n",
    "print(f'Data after dropping col \"ID\" has  {df.shape[1]} columns.')"
   ]
  },
  {
   "cell_type": "code",
   "execution_count": 311,
   "metadata": {},
   "outputs": [
    {
     "data": {
      "text/plain": [
       "Price                 int64\n",
       "Levy                 object\n",
       "Manufacturer         object\n",
       "Model                object\n",
       "Prod. year            int64\n",
       "Category             object\n",
       "Leather interior     object\n",
       "Fuel type            object\n",
       "Engine volume        object\n",
       "Mileage              object\n",
       "Cylinders           float64\n",
       "Gear box type        object\n",
       "Drive wheels         object\n",
       "Doors                object\n",
       "Wheel                object\n",
       "Color                object\n",
       "Airbags               int64\n",
       "dtype: object"
      ]
     },
     "execution_count": 311,
     "metadata": {},
     "output_type": "execute_result"
    }
   ],
   "source": [
    "# checking for the datatypes\n",
    "df.dtypes"
   ]
  },
  {
   "cell_type": "markdown",
   "metadata": {},
   "source": [
    "Since the \"Levy\", \"Engine volume\", \"Mileage\" & \"Cylinders\" columns should contain int or float values not object we have to convert it first"
   ]
  },
  {
   "cell_type": "code",
   "execution_count": 312,
   "metadata": {},
   "outputs": [
    {
     "name": "stdout",
     "output_type": "stream",
     "text": [
      "Unique values in Levy\n",
      " ['1399' '1018' '-' '862' '446' '891' '761' '751' '394' '1053' '1055'\n",
      " '1079' '810' '2386' '1850' '531' '586' '1249' '2455' '583' '1537' '1288'\n",
      " '915' '1750' '707' '1077' '1486' '1091' '650' '382' '1436' '1194' '503'\n",
      " '1017' '1104' '639' '629' '919' '781' '530' '640' '765' '777' '779' '934'\n",
      " '769' '645' '1185' '1324' '830' '1187' '1111' '760' '642' '1604' '1095'\n",
      " '966' '473' '1138' '1811' '988' '917' '1156' '687' '11714' '836' '1347'\n",
      " '2866' '1646' '259' '609' '697' '585' '475' '690' '308' '1823' '1361'\n",
      " '1273' '924' '584' '2078' '831' '1172' '893' '1872' '1885' '1266' '447'\n",
      " '2148' '1730' '730' '289' '502' '333' '1325' '247' '879' '1342' '1327'\n",
      " '1598' '1514' '1058' '738' '1935' '481' '1522' '1282' '456' '880' '900'\n",
      " '798' '1277' '442' '1051' '790' '1292' '1047' '528' '1211' '1493' '1793'\n",
      " '574' '930' '1998' '271' '706' '1481' '1677' '1661' '1286' '1408' '1090'\n",
      " '595' '1451' '1267' '993' '1714' '878' '641' '749' '1511' '603' '353'\n",
      " '877' '1236' '1141' '397' '784' '1024' '1357' '1301' '770' '922' '1438'\n",
      " '753' '607' '1363' '638' '490' '431' '565' '517' '833' '489' '1760' '986'\n",
      " '1841' '1620' '1360' '474' '1099' '978' '1624' '1946' '1268' '1307' '696'\n",
      " '649' '666' '2151' '551' '800' '971' '1323' '2377' '1845' '1083' '694'\n",
      " '463' '419' '345' '1515' '1505' '2056' '1203' '729' '460' '1356' '876'\n",
      " '911' '1190' '780' '448' '2410' '1848' '1148' '834' '1275' '1028' '1197'\n",
      " '724' '890' '1705' '505' '789' '2959' '518' '461' '1719' '2858' '3156'\n",
      " '2225' '2177' '1968' '1888' '1308' '2736' '1103' '557' '2195' '843'\n",
      " '1664' '723' '4508' '562' '501' '2018' '1076' '1202' '3301' '691' '1440'\n",
      " '1869' '1178' '418' '1820' '1413' '488' '1304' '363' '2108' '521' '1659'\n",
      " '87' '1411' '1528' '3292' '7058' '1578' '627' '874' '1996' '1488' '5679'\n",
      " '1234' '5603' '400' '889' '3268' '875' '949' '2265' '441' '742' '425'\n",
      " '2476' '2971' '614' '1816' '1375' '1405' '2297' '1062' '1113' '420'\n",
      " '2469' '658' '1951' '2670' '2578' '1995' '1032' '994' '1011' '2421'\n",
      " '1296' '155' '494' '426' '1086' '961' '2236' '1829' '764' '1834' '1054'\n",
      " '617' '1529' '2266' '637' '626' '1832' '1016' '2002' '1756' '746' '1285'\n",
      " '2690' '1118' '5332' '980' '1807' '970' '1228' '1195' '1132' '1768'\n",
      " '1384' '1080' '7063' '1817' '1452' '1975' '1368' '702' '1974' '1781'\n",
      " '1036' '944' '663' '364' '1539' '1345' '1680' '2209' '741' '1575' '695'\n",
      " '1317' '294' '1525' '424' '997' '1473' '1552' '2819' '2188' '1668' '3057'\n",
      " '799' '1502' '2606' '552' '1694' '1759' '1110' '399' '1470' '1174' '5877'\n",
      " '1474' '1688' '526' '686' '5908' '1107' '2070' '1468' '1246' '1685' '556'\n",
      " '1533' '1917' '1346' '732' '692' '579' '421' '362' '3505' '1855' '2711'\n",
      " '1586' '3739' '681' '1708' '2278' '1701' '722' '1482' '928' '827' '832'\n",
      " '527' '604' '173' '1341' '3329' '1553' '859' '167' '916' '828' '2082'\n",
      " '1176' '1108' '975' '3008' '1516' '2269' '1699' '2073' '1031' '1503'\n",
      " '2364' '1030' '1442' '5666' '2715' '1437' '2067' '1426' '2908' '1279'\n",
      " '866' '4283' '279' '2658' '3015' '2004' '1391' '4736' '748' '1466' '644'\n",
      " '683' '2705' '1297' '731' '1252' '2216' '3141' '3273' '1518' '1723'\n",
      " '1588' '972' '682' '1094' '668' '175' '967' '402' '3894' '1960' '1599'\n",
      " '2000' '2084' '1621' '714' '1109' '3989' '873' '1572' '1163' '1991'\n",
      " '1716' '1673' '2562' '2874' '965' '462' '605' '1948' '1736' '3518' '2054'\n",
      " '2467' '1681' '1272' '1205' '750' '2156' '2566' '115' '524' '3184' '676'\n",
      " '1678' '612' '328' '955' '1441' '1675' '3965' '2909' '623' '822' '867'\n",
      " '3025' '1993' '792' '636' '4057' '3743' '2337' '2570' '2418' '2472'\n",
      " '3910' '1662' '2123' '2628' '3208' '2080' '3699' '2913' '864' '2505'\n",
      " '870' '7536' '1924' '1671' '1064' '1836' '1866' '4741' '841' '1369'\n",
      " '5681' '3112' '1366' '2223' '1198' '1039' '3811' '3571' '1387' '1171'\n",
      " '1365' '1531' '1590' '11706' '2308' '4860' '1641' '1045' '1901']\n"
     ]
    }
   ],
   "source": [
    "print(\"Unique values in Levy\\n\",df['Levy'].unique())"
   ]
  },
  {
   "cell_type": "markdown",
   "metadata": {},
   "source": [
    "as we can see \"Levy\" has '-' values i.e at the 3rd position, we should dealing with non numerical data before converting"
   ]
  },
  {
   "cell_type": "code",
   "execution_count": 313,
   "metadata": {},
   "outputs": [
    {
     "data": {
      "text/plain": [
       "0        1399.0\n",
       "1        1018.0\n",
       "2           NaN\n",
       "3         862.0\n",
       "4         446.0\n",
       "          ...  \n",
       "19232       NaN\n",
       "19233     831.0\n",
       "19234     836.0\n",
       "19235    1288.0\n",
       "19236     753.0\n",
       "Name: Levy, Length: 19237, dtype: float64"
      ]
     },
     "execution_count": 313,
     "metadata": {},
     "output_type": "execute_result"
    }
   ],
   "source": [
    "# Replace non-numeric values with NaN\n",
    "df['Levy'] = pd.to_numeric(df['Levy'], errors='coerce')\n",
    "\n",
    "df['Levy']"
   ]
  },
  {
   "cell_type": "markdown",
   "metadata": {},
   "source": [
    "the next one is the \"Cylinders\" col that it should contain int values not float"
   ]
  },
  {
   "cell_type": "code",
   "execution_count": 314,
   "metadata": {},
   "outputs": [
    {
     "data": {
      "text/plain": [
       "0        6\n",
       "1        6\n",
       "2        4\n",
       "3        4\n",
       "4        4\n",
       "        ..\n",
       "19232    4\n",
       "19233    4\n",
       "19234    4\n",
       "19235    4\n",
       "19236    4\n",
       "Name: Cylinders, Length: 19237, dtype: int64"
      ]
     },
     "execution_count": 314,
     "metadata": {},
     "output_type": "execute_result"
    }
   ],
   "source": [
    "df['Cylinders'] = df['Cylinders'].astype(int)\n",
    "df['Cylinders']"
   ]
  },
  {
   "cell_type": "markdown",
   "metadata": {},
   "source": [
    "we should also deal with \"Engine volume\" so that it should contain float values not object"
   ]
  },
  {
   "cell_type": "code",
   "execution_count": 315,
   "metadata": {},
   "outputs": [
    {
     "data": {
      "text/plain": [
       "array(['3.5', '3', '1.3', '2.5', '2', '1.8', '2.4', '4', '1.6', '3.3',\n",
       "       '2.0 Turbo', '2.2 Turbo', '4.7', '1.5', '4.4', '3.0 Turbo',\n",
       "       '1.4 Turbo', '3.6', '2.3', '1.5 Turbo', '1.6 Turbo', '2.2',\n",
       "       '2.3 Turbo', '1.4', '5.5', '2.8 Turbo', '3.2', '3.8', '4.6', '1.2',\n",
       "       '5', '1.7', '2.9', '0.5', '1.8 Turbo', '2.4 Turbo', '3.5 Turbo',\n",
       "       '1.9', '2.7', '4.8', '5.3', '0.4', '2.8', '3.2 Turbo', '1.1',\n",
       "       '2.1', '0.7', '5.4', '1.3 Turbo', '3.7', '1', '2.5 Turbo', '2.6',\n",
       "       '1.9 Turbo', '4.4 Turbo', '4.7 Turbo', '0.8', '0.2 Turbo', '5.7',\n",
       "       '4.8 Turbo', '4.6 Turbo', '6.7', '6.2', '1.2 Turbo', '3.4',\n",
       "       '1.7 Turbo', '6.3 Turbo', '2.7 Turbo', '4.3', '4.2', '2.9 Turbo',\n",
       "       '0', '4.0 Turbo', '20', '3.6 Turbo', '0.3', '3.7 Turbo', '5.9',\n",
       "       '5.5 Turbo', '0.2', '2.1 Turbo', '5.6', '6', '0.7 Turbo',\n",
       "       '0.6 Turbo', '6.8', '4.5', '0.6', '7.3', '0.1', '1.0 Turbo', '6.3',\n",
       "       '4.5 Turbo', '0.8 Turbo', '4.2 Turbo', '3.1', '5.0 Turbo', '6.4',\n",
       "       '3.9', '5.7 Turbo', '0.9', '0.4 Turbo', '5.4 Turbo', '0.3 Turbo',\n",
       "       '5.2', '5.8', '1.1 Turbo'], dtype=object)"
      ]
     },
     "execution_count": 315,
     "metadata": {},
     "output_type": "execute_result"
    }
   ],
   "source": [
    "df['Engine volume'].unique()"
   ]
  },
  {
   "cell_type": "code",
   "execution_count": 316,
   "metadata": {},
   "outputs": [
    {
     "data": {
      "text/plain": [
       "0        3.5\n",
       "1        3.0\n",
       "2        1.3\n",
       "3        2.5\n",
       "4        1.3\n",
       "        ... \n",
       "19232    NaN\n",
       "19233    2.4\n",
       "19234    2.0\n",
       "19235    2.0\n",
       "19236    2.4\n",
       "Name: Engine volume, Length: 19237, dtype: float64"
      ]
     },
     "execution_count": 316,
     "metadata": {},
     "output_type": "execute_result"
    }
   ],
   "source": [
    "df['Engine volume'] = pd.to_numeric(df['Engine volume'], errors='coerce') #non-numeric will be replaced with NaN\n",
    "df['Engine volume']"
   ]
  },
  {
   "cell_type": "markdown",
   "metadata": {},
   "source": [
    "the next one is to deal with \"Mileage\" col that it should contain int values not object"
   ]
  },
  {
   "cell_type": "code",
   "execution_count": 317,
   "metadata": {},
   "outputs": [
    {
     "data": {
      "text/plain": [
       "array(['186005 km', '192000 km', '200000 km', ..., '140607 km',\n",
       "       '307325 km', '186923 km'], dtype=object)"
      ]
     },
     "execution_count": 317,
     "metadata": {},
     "output_type": "execute_result"
    }
   ],
   "source": [
    "df['Mileage'].unique()"
   ]
  },
  {
   "cell_type": "code",
   "execution_count": 318,
   "metadata": {},
   "outputs": [
    {
     "data": {
      "text/plain": [
       "0        186005\n",
       "1        192000\n",
       "2        200000\n",
       "3        168966\n",
       "4         91901\n",
       "          ...  \n",
       "19232    300000\n",
       "19233    161600\n",
       "19234    116365\n",
       "19235     51258\n",
       "19236    186923\n",
       "Name: Mileage, Length: 19237, dtype: int64"
      ]
     },
     "execution_count": 318,
     "metadata": {},
     "output_type": "execute_result"
    }
   ],
   "source": [
    "# Remove non-numeric characters and convert 'Mileage' to integers\n",
    "df['Mileage'] = df['Mileage'].str.replace(' km', '').str.replace(',', '')\n",
    "df['Mileage']=df['Mileage'] .astype(int)\n",
    "df['Mileage']"
   ]
  },
  {
   "cell_type": "markdown",
   "metadata": {},
   "source": [
    "Checking for duplicated Values\n"
   ]
  },
  {
   "cell_type": "code",
   "execution_count": 319,
   "metadata": {},
   "outputs": [
    {
     "name": "stdout",
     "output_type": "stream",
     "text": [
      "Number of duplicated values: 3512\n"
     ]
    }
   ],
   "source": [
    "num_duplicates = df.duplicated().sum()\n",
    "\n",
    "print(\"Number of duplicated values:\", num_duplicates)"
   ]
  },
  {
   "cell_type": "code",
   "execution_count": 320,
   "metadata": {},
   "outputs": [
    {
     "name": "stdout",
     "output_type": "stream",
     "text": [
      "Data after dropping duplicated values has 15725 rows \n"
     ]
    }
   ],
   "source": [
    "df.drop_duplicates(inplace=True)\n",
    "print(f'Data after dropping duplicated values has {df.shape[0]} rows ') #rows-=313"
   ]
  },
  {
   "cell_type": "markdown",
   "metadata": {},
   "source": [
    "Checking for NULL Values"
   ]
  },
  {
   "cell_type": "code",
   "execution_count": 321,
   "metadata": {},
   "outputs": [
    {
     "data": {
      "text/plain": [
       "<Axes: >"
      ]
     },
     "execution_count": 321,
     "metadata": {},
     "output_type": "execute_result"
    },
    {
     "data": {
      "image/png": "[encoded data removed]",
      "text/plain": [
       "<Figure size 640x480 with 2 Axes>"
      ]
     },
     "metadata": {},
     "output_type": "display_data"
    }
   ],
   "source": [
    "sns.heatmap(df.isnull(),cmap='cividis')"
   ]
  },
  {
   "cell_type": "markdown",
   "metadata": {},
   "source": [
    "from this heatmap the NULL values are in the \"Levy\" col and \"Engine volume\" col so we should also handle these null values|"
   ]
  },
  {
   "cell_type": "code",
   "execution_count": 322,
   "metadata": {},
   "outputs": [
    {
     "name": "stdout",
     "output_type": "stream",
     "text": [
      "Number of Null values in 'Levy' col is          : 5684\n",
      "Number of Null values in 'Engine volume' col is : 1889\n"
     ]
    }
   ],
   "source": [
    "num_nulls_Levy=df[\"Levy\"].isnull().sum()\n",
    "print(\"Number of Null values in 'Levy' col is          :\", num_nulls_Levy)\n",
    "\n",
    "num_nulls_Engine=df[\"Engine volume\"].isnull().sum()\n",
    "print(\"Number of Null values in 'Engine volume' col is :\", num_nulls_Engine)"
   ]
  },
  {
   "cell_type": "code",
   "execution_count": 323,
   "metadata": {},
   "outputs": [],
   "source": [
    "#  replace Null values in \"Levy\" with mean of \"Levy\" col\n",
    "df['Levy'].fillna( df['Levy'].mean(), inplace=True)\n",
    "df['Levy'] = df['Levy'].astype(int)# convert from float to int\n",
    "\n",
    "#  replace Null values in \"Engine volume\" with mean of \"Engine volume\" col\n",
    "df['Engine volume'].fillna( df['Engine volume'].mean(), inplace=True)"
   ]
  },
  {
   "cell_type": "code",
   "execution_count": 324,
   "metadata": {},
   "outputs": [
    {
     "data": {
      "text/plain": [
       "Price               0\n",
       "Levy                0\n",
       "Manufacturer        0\n",
       "Model               0\n",
       "Prod. year          0\n",
       "Category            0\n",
       "Leather interior    0\n",
       "Fuel type           0\n",
       "Engine volume       0\n",
       "Mileage             0\n",
       "Cylinders           0\n",
       "Gear box type       0\n",
       "Drive wheels        0\n",
       "Doors               0\n",
       "Wheel               0\n",
       "Color               0\n",
       "Airbags             0\n",
       "dtype: int64"
      ]
     },
     "execution_count": 324,
     "metadata": {},
     "output_type": "execute_result"
    }
   ],
   "source": [
    "df.isnull().sum()"
   ]
  },
  {
   "cell_type": "code",
   "execution_count": 325,
   "metadata": {},
   "outputs": [
    {
     "name": "stdout",
     "output_type": "stream",
     "text": [
      "number of Null values in Data: 0\n"
     ]
    }
   ],
   "source": [
    "num_nulls=df.isnull().sum().sum()\n",
    "print(\"number of Null values in Data:\", num_nulls)"
   ]
  },
  {
   "cell_type": "markdown",
   "metadata": {},
   "source": [
    "since our data is clean we can go to the detecting outliers\n",
    "there for we should pick the possible column that may have outliers"
   ]
  },
  {
   "cell_type": "code",
   "execution_count": 326,
   "metadata": {},
   "outputs": [
    {
     "data": {
      "text/html": [
       "<div>\n",
       "<style scoped>\n",
       "    .dataframe tbody tr th:only-of-type {\n",
       "        vertical-align: middle;\n",
       "    }\n",
       "\n",
       "    .dataframe tbody tr th {\n",
       "        vertical-align: top;\n",
       "    }\n",
       "\n",
       "    .dataframe thead th {\n",
       "        text-align: right;\n",
       "    }\n",
       "</style>\n",
       "<table border=\"1\" class=\"dataframe\">\n",
       "  <thead>\n",
       "    <tr style=\"text-align: right;\">\n",
       "      <th></th>\n",
       "      <th>Levy</th>\n",
       "      <th>Engine volume</th>\n",
       "      <th>Mileage</th>\n",
       "      <th>Airbags</th>\n",
       "    </tr>\n",
       "  </thead>\n",
       "  <tbody>\n",
       "    <tr>\n",
       "      <th>0</th>\n",
       "      <td>1399</td>\n",
       "      <td>3.500000</td>\n",
       "      <td>186005</td>\n",
       "      <td>12</td>\n",
       "    </tr>\n",
       "    <tr>\n",
       "      <th>1</th>\n",
       "      <td>1018</td>\n",
       "      <td>3.000000</td>\n",
       "      <td>192000</td>\n",
       "      <td>8</td>\n",
       "    </tr>\n",
       "    <tr>\n",
       "      <th>2</th>\n",
       "      <td>879</td>\n",
       "      <td>1.300000</td>\n",
       "      <td>200000</td>\n",
       "      <td>2</td>\n",
       "    </tr>\n",
       "    <tr>\n",
       "      <th>3</th>\n",
       "      <td>862</td>\n",
       "      <td>2.500000</td>\n",
       "      <td>168966</td>\n",
       "      <td>0</td>\n",
       "    </tr>\n",
       "    <tr>\n",
       "      <th>4</th>\n",
       "      <td>446</td>\n",
       "      <td>1.300000</td>\n",
       "      <td>91901</td>\n",
       "      <td>4</td>\n",
       "    </tr>\n",
       "    <tr>\n",
       "      <th>...</th>\n",
       "      <td>...</td>\n",
       "      <td>...</td>\n",
       "      <td>...</td>\n",
       "      <td>...</td>\n",
       "    </tr>\n",
       "    <tr>\n",
       "      <th>19230</th>\n",
       "      <td>645</td>\n",
       "      <td>1.800000</td>\n",
       "      <td>307325</td>\n",
       "      <td>12</td>\n",
       "    </tr>\n",
       "    <tr>\n",
       "      <th>19232</th>\n",
       "      <td>879</td>\n",
       "      <td>2.206404</td>\n",
       "      <td>300000</td>\n",
       "      <td>5</td>\n",
       "    </tr>\n",
       "    <tr>\n",
       "      <th>19233</th>\n",
       "      <td>831</td>\n",
       "      <td>2.400000</td>\n",
       "      <td>161600</td>\n",
       "      <td>8</td>\n",
       "    </tr>\n",
       "    <tr>\n",
       "      <th>19234</th>\n",
       "      <td>836</td>\n",
       "      <td>2.000000</td>\n",
       "      <td>116365</td>\n",
       "      <td>4</td>\n",
       "    </tr>\n",
       "    <tr>\n",
       "      <th>19236</th>\n",
       "      <td>753</td>\n",
       "      <td>2.400000</td>\n",
       "      <td>186923</td>\n",
       "      <td>12</td>\n",
       "    </tr>\n",
       "  </tbody>\n",
       "</table>\n",
       "<p>15725 rows × 4 columns</p>\n",
       "</div>"
      ],
      "text/plain": [
       "       Levy  Engine volume  Mileage  Airbags\n",
       "0      1399       3.500000   186005       12\n",
       "1      1018       3.000000   192000        8\n",
       "2       879       1.300000   200000        2\n",
       "3       862       2.500000   168966        0\n",
       "4       446       1.300000    91901        4\n",
       "...     ...            ...      ...      ...\n",
       "19230   645       1.800000   307325       12\n",
       "19232   879       2.206404   300000        5\n",
       "19233   831       2.400000   161600        8\n",
       "19234   836       2.000000   116365        4\n",
       "19236   753       2.400000   186923       12\n",
       "\n",
       "[15725 rows x 4 columns]"
      ]
     },
     "execution_count": 326,
     "metadata": {},
     "output_type": "execute_result"
    }
   ],
   "source": [
    "df_setect_out=df[['Levy','Engine volume','Mileage','Airbags']]\n",
    "df_setect_out"
   ]
  },
  {
   "cell_type": "code",
   "execution_count": 327,
   "metadata": {},
   "outputs": [
    {
     "name": "stdout",
     "output_type": "stream",
     "text": [
      "Columns with outliers: ['Levy', 'Engine volume', 'Mileage']\n"
     ]
    }
   ],
   "source": [
    "outlier_cols = []\n",
    "\n",
    "for column in df_setect_out.columns:\n",
    "    # Calculate the IQR (Interquartile Range)\n",
    "    Q1 = df_setect_out[column].quantile(0.25)\n",
    "    Q3 = df_setect_out[column].quantile(0.75)\n",
    "    IQR = Q3 - Q1\n",
    "    \n",
    "    # Identify outliers based on the IQR\n",
    "    outliers = (df_setect_out[column] < Q1 - 1.5 * IQR) | (df_setect_out[column] > Q3 + 1.5 * IQR)\n",
    "    \n",
    "    # Check if there are any outliers in the column\n",
    "    if any(outliers):\n",
    "        outlier_cols.append(column)\n",
    "\n",
    "# Print columns with outliers\n",
    "print(\"Columns with outliers:\", outlier_cols)"
   ]
  },
  {
   "cell_type": "code",
   "execution_count": 328,
   "metadata": {},
   "outputs": [
    {
     "data": {
      "image/png": "[encoded data removed]",
      "text/plain": [
       "<Figure size 1500x500 with 4 Axes>"
      ]
     },
     "metadata": {},
     "output_type": "display_data"
    }
   ],
   "source": [
    "fig, axes = plt.subplots(nrows=1, ncols=len(df_setect_out.columns), figsize=(15, 5))\n",
    "\n",
    "# Create box plots for each column\n",
    "for i, column in enumerate(df_setect_out.columns):\n",
    "    sns.boxplot(x=df_setect_out[column], ax=axes[i], color='skyblue')\n",
    "    axes[i].set_title(f'Box Plot for {column}')\n",
    "\n",
    "plt.tight_layout()\n",
    "plt.show()"
   ]
  },
  {
   "cell_type": "markdown",
   "metadata": {},
   "source": [
    "The box plots for Levy, Engine volume, Mileage, and Cylinders indicate the presence of potential outliers as there are data points extending beyond the whiskers. However, the box plot for Airbags shows a relatively clean distribution with no significant outliers."
   ]
  },
  {
   "cell_type": "code",
   "execution_count": 329,
   "metadata": {},
   "outputs": [
    {
     "name": "stdout",
     "output_type": "stream",
     "text": [
      "               Levy  Engine volume        Mileage       Airbags\n",
      "count  15725.000000   15725.000000   15725.000000  15725.000000\n",
      "mean     835.736789       2.161424  130567.788045      6.543339\n",
      "std      156.853489       0.603954   86330.630340      4.067728\n",
      "min      546.500000       0.750000       0.000000      0.000000\n",
      "25%      746.000000       1.800000   66575.000000      4.000000\n",
      "50%      879.000000       2.000000  121000.000000      6.000000\n",
      "75%      879.000000       2.500000  180000.000000     12.000000\n",
      "max     1078.500000       3.550000  350137.500000     16.000000\n"
     ]
    }
   ],
   "source": [
    "# Loop through the columns with outliers\n",
    "for column in df_setect_out.columns:\n",
    "    Q1 = df_setect_out[column].quantile(0.25)\n",
    "    Q3 = df_setect_out[column].quantile(0.75)\n",
    "    IQR = Q3 - Q1\n",
    "    lower_bound = Q1 - 1.5 * IQR\n",
    "    upper_bound = Q3 + 1.5 * IQR\n",
    "    \n",
    "    # Cap the outliers\n",
    "    df_setect_out[column] = df_setect_out[column].clip(lower=lower_bound, upper=upper_bound)\n",
    "\n",
    "# Check the updated values\n",
    "print(df_setect_out.describe())\n"
   ]
  },
  {
   "cell_type": "code",
   "execution_count": 330,
   "metadata": {},
   "outputs": [
    {
     "data": {
      "text/html": [
       "<div>\n",
       "<style scoped>\n",
       "    .dataframe tbody tr th:only-of-type {\n",
       "        vertical-align: middle;\n",
       "    }\n",
       "\n",
       "    .dataframe tbody tr th {\n",
       "        vertical-align: top;\n",
       "    }\n",
       "\n",
       "    .dataframe thead th {\n",
       "        text-align: right;\n",
       "    }\n",
       "</style>\n",
       "<table border=\"1\" class=\"dataframe\">\n",
       "  <thead>\n",
       "    <tr style=\"text-align: right;\">\n",
       "      <th></th>\n",
       "      <th>Price</th>\n",
       "      <th>Levy</th>\n",
       "      <th>Manufacturer</th>\n",
       "      <th>Model</th>\n",
       "      <th>Prod. year</th>\n",
       "      <th>Category</th>\n",
       "      <th>Leather interior</th>\n",
       "      <th>Fuel type</th>\n",
       "      <th>Engine volume</th>\n",
       "      <th>Mileage</th>\n",
       "      <th>Cylinders</th>\n",
       "      <th>Gear box type</th>\n",
       "      <th>Drive wheels</th>\n",
       "      <th>Doors</th>\n",
       "      <th>Wheel</th>\n",
       "      <th>Color</th>\n",
       "      <th>Airbags</th>\n",
       "    </tr>\n",
       "  </thead>\n",
       "  <tbody>\n",
       "    <tr>\n",
       "      <th>0</th>\n",
       "      <td>13328</td>\n",
       "      <td>1078.5</td>\n",
       "      <td>LEXUS</td>\n",
       "      <td>RX 450</td>\n",
       "      <td>2010</td>\n",
       "      <td>Jeep</td>\n",
       "      <td>Yes</td>\n",
       "      <td>Hybrid</td>\n",
       "      <td>3.500000</td>\n",
       "      <td>186005.0</td>\n",
       "      <td>6</td>\n",
       "      <td>Automatic</td>\n",
       "      <td>4x4</td>\n",
       "      <td>04-May</td>\n",
       "      <td>Left wheel</td>\n",
       "      <td>Silver</td>\n",
       "      <td>12</td>\n",
       "    </tr>\n",
       "    <tr>\n",
       "      <th>1</th>\n",
       "      <td>16621</td>\n",
       "      <td>1018.0</td>\n",
       "      <td>CHEVROLET</td>\n",
       "      <td>Equinox</td>\n",
       "      <td>2011</td>\n",
       "      <td>Jeep</td>\n",
       "      <td>No</td>\n",
       "      <td>Petrol</td>\n",
       "      <td>3.000000</td>\n",
       "      <td>192000.0</td>\n",
       "      <td>6</td>\n",
       "      <td>Tiptronic</td>\n",
       "      <td>4x4</td>\n",
       "      <td>04-May</td>\n",
       "      <td>Left wheel</td>\n",
       "      <td>Black</td>\n",
       "      <td>8</td>\n",
       "    </tr>\n",
       "    <tr>\n",
       "      <th>2</th>\n",
       "      <td>8467</td>\n",
       "      <td>879.0</td>\n",
       "      <td>HONDA</td>\n",
       "      <td>FIT</td>\n",
       "      <td>2006</td>\n",
       "      <td>Hatchback</td>\n",
       "      <td>No</td>\n",
       "      <td>Petrol</td>\n",
       "      <td>1.300000</td>\n",
       "      <td>200000.0</td>\n",
       "      <td>4</td>\n",
       "      <td>Variator</td>\n",
       "      <td>Front</td>\n",
       "      <td>04-May</td>\n",
       "      <td>Right-hand drive</td>\n",
       "      <td>Black</td>\n",
       "      <td>2</td>\n",
       "    </tr>\n",
       "    <tr>\n",
       "      <th>3</th>\n",
       "      <td>3607</td>\n",
       "      <td>862.0</td>\n",
       "      <td>FORD</td>\n",
       "      <td>Escape</td>\n",
       "      <td>2011</td>\n",
       "      <td>Jeep</td>\n",
       "      <td>Yes</td>\n",
       "      <td>Hybrid</td>\n",
       "      <td>2.500000</td>\n",
       "      <td>168966.0</td>\n",
       "      <td>4</td>\n",
       "      <td>Automatic</td>\n",
       "      <td>4x4</td>\n",
       "      <td>04-May</td>\n",
       "      <td>Left wheel</td>\n",
       "      <td>White</td>\n",
       "      <td>0</td>\n",
       "    </tr>\n",
       "    <tr>\n",
       "      <th>4</th>\n",
       "      <td>11726</td>\n",
       "      <td>546.5</td>\n",
       "      <td>HONDA</td>\n",
       "      <td>FIT</td>\n",
       "      <td>2014</td>\n",
       "      <td>Hatchback</td>\n",
       "      <td>Yes</td>\n",
       "      <td>Petrol</td>\n",
       "      <td>1.300000</td>\n",
       "      <td>91901.0</td>\n",
       "      <td>4</td>\n",
       "      <td>Automatic</td>\n",
       "      <td>Front</td>\n",
       "      <td>04-May</td>\n",
       "      <td>Left wheel</td>\n",
       "      <td>Silver</td>\n",
       "      <td>4</td>\n",
       "    </tr>\n",
       "    <tr>\n",
       "      <th>...</th>\n",
       "      <td>...</td>\n",
       "      <td>...</td>\n",
       "      <td>...</td>\n",
       "      <td>...</td>\n",
       "      <td>...</td>\n",
       "      <td>...</td>\n",
       "      <td>...</td>\n",
       "      <td>...</td>\n",
       "      <td>...</td>\n",
       "      <td>...</td>\n",
       "      <td>...</td>\n",
       "      <td>...</td>\n",
       "      <td>...</td>\n",
       "      <td>...</td>\n",
       "      <td>...</td>\n",
       "      <td>...</td>\n",
       "      <td>...</td>\n",
       "    </tr>\n",
       "    <tr>\n",
       "      <th>19230</th>\n",
       "      <td>470</td>\n",
       "      <td>645.0</td>\n",
       "      <td>TOYOTA</td>\n",
       "      <td>Prius</td>\n",
       "      <td>2011</td>\n",
       "      <td>Hatchback</td>\n",
       "      <td>Yes</td>\n",
       "      <td>Hybrid</td>\n",
       "      <td>1.800000</td>\n",
       "      <td>307325.0</td>\n",
       "      <td>4</td>\n",
       "      <td>Automatic</td>\n",
       "      <td>Front</td>\n",
       "      <td>04-May</td>\n",
       "      <td>Left wheel</td>\n",
       "      <td>Silver</td>\n",
       "      <td>12</td>\n",
       "    </tr>\n",
       "    <tr>\n",
       "      <th>19232</th>\n",
       "      <td>8467</td>\n",
       "      <td>879.0</td>\n",
       "      <td>MERCEDES-BENZ</td>\n",
       "      <td>CLK 200</td>\n",
       "      <td>1999</td>\n",
       "      <td>Coupe</td>\n",
       "      <td>Yes</td>\n",
       "      <td>CNG</td>\n",
       "      <td>2.206404</td>\n",
       "      <td>300000.0</td>\n",
       "      <td>4</td>\n",
       "      <td>Manual</td>\n",
       "      <td>Rear</td>\n",
       "      <td>02-Mar</td>\n",
       "      <td>Left wheel</td>\n",
       "      <td>Silver</td>\n",
       "      <td>5</td>\n",
       "    </tr>\n",
       "    <tr>\n",
       "      <th>19233</th>\n",
       "      <td>15681</td>\n",
       "      <td>831.0</td>\n",
       "      <td>HYUNDAI</td>\n",
       "      <td>Sonata</td>\n",
       "      <td>2011</td>\n",
       "      <td>Sedan</td>\n",
       "      <td>Yes</td>\n",
       "      <td>Petrol</td>\n",
       "      <td>2.400000</td>\n",
       "      <td>161600.0</td>\n",
       "      <td>4</td>\n",
       "      <td>Tiptronic</td>\n",
       "      <td>Front</td>\n",
       "      <td>04-May</td>\n",
       "      <td>Left wheel</td>\n",
       "      <td>Red</td>\n",
       "      <td>8</td>\n",
       "    </tr>\n",
       "    <tr>\n",
       "      <th>19234</th>\n",
       "      <td>26108</td>\n",
       "      <td>836.0</td>\n",
       "      <td>HYUNDAI</td>\n",
       "      <td>Tucson</td>\n",
       "      <td>2010</td>\n",
       "      <td>Jeep</td>\n",
       "      <td>Yes</td>\n",
       "      <td>Diesel</td>\n",
       "      <td>2.000000</td>\n",
       "      <td>116365.0</td>\n",
       "      <td>4</td>\n",
       "      <td>Automatic</td>\n",
       "      <td>Front</td>\n",
       "      <td>04-May</td>\n",
       "      <td>Left wheel</td>\n",
       "      <td>Grey</td>\n",
       "      <td>4</td>\n",
       "    </tr>\n",
       "    <tr>\n",
       "      <th>19236</th>\n",
       "      <td>470</td>\n",
       "      <td>753.0</td>\n",
       "      <td>HYUNDAI</td>\n",
       "      <td>Sonata</td>\n",
       "      <td>2012</td>\n",
       "      <td>Sedan</td>\n",
       "      <td>Yes</td>\n",
       "      <td>Hybrid</td>\n",
       "      <td>2.400000</td>\n",
       "      <td>186923.0</td>\n",
       "      <td>4</td>\n",
       "      <td>Automatic</td>\n",
       "      <td>Front</td>\n",
       "      <td>04-May</td>\n",
       "      <td>Left wheel</td>\n",
       "      <td>White</td>\n",
       "      <td>12</td>\n",
       "    </tr>\n",
       "  </tbody>\n",
       "</table>\n",
       "<p>15725 rows × 17 columns</p>\n",
       "</div>"
      ],
      "text/plain": [
       "       Price    Levy   Manufacturer    Model  Prod. year   Category  \\\n",
       "0      13328  1078.5          LEXUS   RX 450        2010       Jeep   \n",
       "1      16621  1018.0      CHEVROLET  Equinox        2011       Jeep   \n",
       "2       8467   879.0          HONDA      FIT        2006  Hatchback   \n",
       "3       3607   862.0           FORD   Escape        2011       Jeep   \n",
       "4      11726   546.5          HONDA      FIT        2014  Hatchback   \n",
       "...      ...     ...            ...      ...         ...        ...   \n",
       "19230    470   645.0         TOYOTA    Prius        2011  Hatchback   \n",
       "19232   8467   879.0  MERCEDES-BENZ  CLK 200        1999      Coupe   \n",
       "19233  15681   831.0        HYUNDAI   Sonata        2011      Sedan   \n",
       "19234  26108   836.0        HYUNDAI   Tucson        2010       Jeep   \n",
       "19236    470   753.0        HYUNDAI   Sonata        2012      Sedan   \n",
       "\n",
       "      Leather interior Fuel type  Engine volume   Mileage  Cylinders  \\\n",
       "0                  Yes    Hybrid       3.500000  186005.0          6   \n",
       "1                   No    Petrol       3.000000  192000.0          6   \n",
       "2                   No    Petrol       1.300000  200000.0          4   \n",
       "3                  Yes    Hybrid       2.500000  168966.0          4   \n",
       "4                  Yes    Petrol       1.300000   91901.0          4   \n",
       "...                ...       ...            ...       ...        ...   \n",
       "19230              Yes    Hybrid       1.800000  307325.0          4   \n",
       "19232              Yes       CNG       2.206404  300000.0          4   \n",
       "19233              Yes    Petrol       2.400000  161600.0          4   \n",
       "19234              Yes    Diesel       2.000000  116365.0          4   \n",
       "19236              Yes    Hybrid       2.400000  186923.0          4   \n",
       "\n",
       "      Gear box type Drive wheels   Doors             Wheel   Color  Airbags  \n",
       "0         Automatic          4x4  04-May        Left wheel  Silver       12  \n",
       "1         Tiptronic          4x4  04-May        Left wheel   Black        8  \n",
       "2          Variator        Front  04-May  Right-hand drive   Black        2  \n",
       "3         Automatic          4x4  04-May        Left wheel   White        0  \n",
       "4         Automatic        Front  04-May        Left wheel  Silver        4  \n",
       "...             ...          ...     ...               ...     ...      ...  \n",
       "19230     Automatic        Front  04-May        Left wheel  Silver       12  \n",
       "19232        Manual         Rear  02-Mar        Left wheel  Silver        5  \n",
       "19233     Tiptronic        Front  04-May        Left wheel     Red        8  \n",
       "19234     Automatic        Front  04-May        Left wheel    Grey        4  \n",
       "19236     Automatic        Front  04-May        Left wheel   White       12  \n",
       "\n",
       "[15725 rows x 17 columns]"
      ]
     },
     "execution_count": 330,
     "metadata": {},
     "output_type": "execute_result"
    }
   ],
   "source": [
    "# Apply the changes from df_setect_out back to df for the selected columns\n",
    "df[df_setect_out.columns] = df_setect_out\n",
    "df\n",
    "\n"
   ]
  },
  {
   "cell_type": "code",
   "execution_count": 331,
   "metadata": {},
   "outputs": [],
   "source": [
    "# Save the modified dataset to a CSV file\n",
    "df.to_csv('../data/cleaned_car_price_dataset.csv', index=False)\n"
   ]
  },
  {
   "cell_type": "code",
   "execution_count": null,
   "metadata": {},
   "outputs": [],
   "source": []
  }
 ],
 "metadata": {
  "kernelspec": {
   "display_name": ".venv",
   "language": "python",
   "name": "python3"
  },
  "language_info": {
   "codemirror_mode": {
    "name": "ipython",
    "version": 3
   },
   "file_extension": ".py",
   "mimetype": "text/x-python",
   "name": "python",
   "nbconvert_exporter": "python",
   "pygments_lexer": "ipython3",
   "version": "3.11.7"
  }
 },
 "nbformat": 4,
 "nbformat_minor": 2
}
